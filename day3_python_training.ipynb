{
 "cells": [
  {
   "cell_type": "code",
   "execution_count": 1,
   "metadata": {},
   "outputs": [
    {
     "name": "stdout",
     "output_type": "stream",
     "text": [
      "Atul Shelar\n"
     ]
    }
   ],
   "source": [
    "first_name = 'atul'\n",
    "last_name = 'shelar'\n",
    "full_name = f'{first_name} {last_name}'\n",
    "print(full_name.title())"
   ]
  },
  {
   "cell_type": "code",
   "execution_count": 7,
   "metadata": {},
   "outputs": [
    {
     "name": "stdout",
     "output_type": "stream",
     "text": [
      "Welcome great to see you again, Atul Shelar\n"
     ]
    }
   ],
   "source": [
    "print(f'Welcome great to see you again, {full_name.title()}')"
   ]
  },
  {
   "cell_type": "code",
   "execution_count": 12,
   "metadata": {},
   "outputs": [
    {
     "name": "stdout",
     "output_type": "stream",
     "text": [
      "\n",
      "python\n",
      "\n",
      "python\n",
      "swift\n",
      "java\n",
      "\n",
      "languages:\n",
      "\tpython\n",
      "\tc\n",
      "\tswitft\n",
      "\tjava\n"
     ]
    }
   ],
   "source": [
    "# Styling text\n",
    "print('\\npython\\n')\n",
    "print('python\\nswift\\njava\\n')\n",
    "print('languages:\\n\\tpython\\n\\tc\\n\\tswitft\\n\\tjava')"
   ]
  },
  {
   "cell_type": "code",
   "execution_count": null,
   "metadata": {},
   "outputs": [],
   "source": [
    "# adding whitespaces\n",
    "print('python ')\n",
    "print(' python')"
   ]
  },
  {
   "cell_type": "code",
   "execution_count": 18,
   "metadata": {},
   "outputs": [
    {
     "name": "stdout",
     "output_type": "stream",
     "text": [
      "atul   shelar\n",
      "atul   shelar      \n",
      "      atul   shelar\n"
     ]
    }
   ],
   "source": [
    "# stripping whitespaces\n",
    "name = '      atul   shelar      '\n",
    "print(name.strip())\n",
    "print(name.lstrip())\n",
    "print(name.rstrip())"
   ]
  },
  {
   "cell_type": "code",
   "execution_count": null,
   "metadata": {},
   "outputs": [],
   "source": []
  }
 ],
 "metadata": {
  "kernelspec": {
   "display_name": "Python 3",
   "language": "python",
   "name": "python3"
  },
  "language_info": {
   "codemirror_mode": {
    "name": "ipython",
    "version": 3
   },
   "file_extension": ".py",
   "mimetype": "text/x-python",
   "name": "python",
   "nbconvert_exporter": "python",
   "pygments_lexer": "ipython3",
   "version": "3.7.4"
  }
 },
 "nbformat": 4,
 "nbformat_minor": 2
}
